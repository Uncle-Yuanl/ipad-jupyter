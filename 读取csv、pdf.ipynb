{
 "cells": [
  {
   "cell_type": "code",
   "execution_count": 1,
   "metadata": {},
   "outputs": [
    {
     "name": "stdout",
     "output_type": "stream",
     "text": [
      "person\n"
     ]
    }
   ],
   "source": [
    "class Person(object):\n",
    "#这里的属性实际上属于类属性（用类名调用）\n",
    "    name = \"person\"\n",
    "    def __init__(self, name):\n",
    "        #self.name = name\n",
    "        pass\n",
    "per = Person(\"Tom\")\n",
    "print(per.name)"
   ]
  },
  {
   "cell_type": "code",
   "execution_count": 2,
   "metadata": {},
   "outputs": [
    {
     "name": "stdout",
     "output_type": "stream",
     "text": [
      "Tom\n"
     ]
    }
   ],
   "source": [
    "class Person(object):\n",
    "#这里的属性实际上属于类属性（用类名调用）\n",
    "    name = \"person\"\n",
    "    def __init__(self, name):\n",
    "        self.name = name\n",
    "        pass\n",
    "per = Person(\"Tom\")\n",
    "print(per.name)"
   ]
  },
  {
   "cell_type": "code",
   "execution_count": 9,
   "metadata": {},
   "outputs": [
    {
     "name": "stdout",
     "output_type": "stream",
     "text": [
      "<_csv.reader object at 0x0000016CC0A66B40>\n"
     ]
    },
    {
     "ename": "UnicodeDecodeError",
     "evalue": "'gbk' codec can't decode byte 0xa2 in position 50: illegal multibyte sequence",
     "output_type": "error",
     "traceback": [
      "\u001b[1;31m---------------------------------------------------------------------------\u001b[0m",
      "\u001b[1;31mUnicodeDecodeError\u001b[0m                        Traceback (most recent call last)",
      "\u001b[1;32m<ipython-input-9-25732dafa2d5>\u001b[0m in \u001b[0;36m<module>\u001b[1;34m\u001b[0m\n\u001b[0;32m     11\u001b[0m \u001b[1;33m\u001b[0m\u001b[0m\n\u001b[0;32m     12\u001b[0m \u001b[0mpath\u001b[0m \u001b[1;33m=\u001b[0m \u001b[1;34mr\"C:\\Users\\0.0\\Desktop\\Python Test\\testcopy.csv\"\u001b[0m\u001b[1;33m\u001b[0m\u001b[1;33m\u001b[0m\u001b[0m\n\u001b[1;32m---> 13\u001b[1;33m \u001b[0minfo\u001b[0m \u001b[1;33m=\u001b[0m \u001b[0mreadCsv\u001b[0m\u001b[1;33m(\u001b[0m\u001b[0mpath\u001b[0m\u001b[1;33m)\u001b[0m\u001b[1;33m\u001b[0m\u001b[1;33m\u001b[0m\u001b[0m\n\u001b[0m\u001b[0;32m     14\u001b[0m \u001b[1;33m\u001b[0m\u001b[0m\n\u001b[0;32m     15\u001b[0m \u001b[1;33m\u001b[0m\u001b[0m\n",
      "\u001b[1;32m<ipython-input-9-25732dafa2d5>\u001b[0m in \u001b[0;36mreadCsv\u001b[1;34m(path)\u001b[0m\n\u001b[0;32m      6\u001b[0m         \u001b[0mallFileInfo\u001b[0m \u001b[1;33m=\u001b[0m \u001b[0mcsv\u001b[0m\u001b[1;33m.\u001b[0m\u001b[0mreader\u001b[0m\u001b[1;33m(\u001b[0m\u001b[0mf\u001b[0m\u001b[1;33m)\u001b[0m\u001b[1;33m\u001b[0m\u001b[1;33m\u001b[0m\u001b[0m\n\u001b[0;32m      7\u001b[0m         \u001b[0mprint\u001b[0m\u001b[1;33m(\u001b[0m\u001b[0mallFileInfo\u001b[0m\u001b[1;33m)\u001b[0m\u001b[1;33m\u001b[0m\u001b[1;33m\u001b[0m\u001b[0m\n\u001b[1;32m----> 8\u001b[1;33m         \u001b[1;32mfor\u001b[0m \u001b[0mrow\u001b[0m \u001b[1;32min\u001b[0m \u001b[0mallFileInfo\u001b[0m\u001b[1;33m:\u001b[0m\u001b[1;33m\u001b[0m\u001b[1;33m\u001b[0m\u001b[0m\n\u001b[0m\u001b[0;32m      9\u001b[0m             \u001b[0minFoList\u001b[0m\u001b[1;33m.\u001b[0m\u001b[0mappend\u001b[0m\u001b[1;33m(\u001b[0m\u001b[0mrow\u001b[0m\u001b[1;33m)\u001b[0m\u001b[1;33m\u001b[0m\u001b[1;33m\u001b[0m\u001b[0m\n\u001b[0;32m     10\u001b[0m     \u001b[1;32mreturn\u001b[0m \u001b[0minFoList\u001b[0m\u001b[1;33m\u001b[0m\u001b[1;33m\u001b[0m\u001b[0m\n",
      "\u001b[1;31mUnicodeDecodeError\u001b[0m: 'gbk' codec can't decode byte 0xa2 in position 50: illegal multibyte sequence"
     ]
    }
   ],
   "source": [
    "import csv\n",
    "\n",
    "def readCsv(path):\n",
    "    inFoList = []\n",
    "    with open(path, \"r\") as f:\n",
    "        allFileInfo = csv.reader(f)\n",
    "        print(allFileInfo)\n",
    "        for row in allFileInfo:\n",
    "            inFoList.append(row)\n",
    "    return inFoList\n",
    "\n",
    "path = r\"C:\\Users\\0.0\\Desktop\\Python Test\\testcopy.csv\"\n",
    "info = readCsv(path)\n",
    "\n",
    "\n"
   ]
  },
  {
   "cell_type": "code",
   "execution_count": 16,
   "metadata": {},
   "outputs": [],
   "source": [
    "def writeCsv(path, data):\n",
    "    #with open(path, \"w\") as f:  #数据每行间隔一行\n",
    "    with open(path, \"w\", newline = \"\") as f:\n",
    "        writer = csv.writer(f)\n",
    "        for rowData in data:\n",
    "            writer.writerow(rowData)\n",
    "\n",
    "\n",
    "path = path = r\"C:\\Users\\0.0\\Desktop\\Python Test\\testcopy2.csv\"\n",
    "data = [[1,2,3], [4,5,6],[7,8,9]]\n",
    "writeCsv(path, data)"
   ]
  },
  {
   "cell_type": "code",
   "execution_count": null,
   "metadata": {},
   "outputs": [],
   "source": [
    "读取PDF"
   ]
  },
  {
   "cell_type": "code",
   "execution_count": 28,
   "metadata": {},
   "outputs": [
    {
     "name": "stdout",
     "output_type": "stream",
     "text": [
      "The impact response of composite laminates based on fracture \n",
      "toughness stiffness degradation*\n",
      "\n",
      "Hao Yuan1† \n",
      "\n"
     ]
    },
    {
     "ename": "UnicodeEncodeError",
     "evalue": "'gbk' codec can't encode character '\\u2020' in position 9: illegal multibyte sequence",
     "output_type": "error",
     "traceback": [
      "\u001b[1;31m---------------------------------------------------------------------------\u001b[0m",
      "\u001b[1;31mUnicodeEncodeError\u001b[0m                        Traceback (most recent call last)",
      "\u001b[1;32m<ipython-input-28-f4f64a1c0604>\u001b[0m in \u001b[0;36m<module>\u001b[1;34m\u001b[0m\n\u001b[0;32m     60\u001b[0m \u001b[0mpath\u001b[0m \u001b[1;33m=\u001b[0m \u001b[1;34mr\"C:\\Users\\0.0\\Desktop\\RA2210终稿.pdf\"\u001b[0m\u001b[1;33m\u001b[0m\u001b[1;33m\u001b[0m\u001b[0m\n\u001b[0;32m     61\u001b[0m \u001b[0maimPath\u001b[0m \u001b[1;33m=\u001b[0m \u001b[1;34mr\"C:\\Users\\0.0\\Desktop\\1.txt\"\u001b[0m\u001b[1;33m\u001b[0m\u001b[1;33m\u001b[0m\u001b[0m\n\u001b[1;32m---> 62\u001b[1;33m \u001b[0mreadPDF\u001b[0m\u001b[1;33m(\u001b[0m\u001b[0mpath\u001b[0m\u001b[1;33m,\u001b[0m \u001b[0maimPath\u001b[0m\u001b[1;33m)\u001b[0m\u001b[1;33m\u001b[0m\u001b[1;33m\u001b[0m\u001b[0m\n\u001b[0m",
      "\u001b[1;32m<ipython-input-28-f4f64a1c0604>\u001b[0m in \u001b[0;36mreadPDF\u001b[1;34m(path, aimPath)\u001b[0m\n\u001b[0;32m     51\u001b[0m                         \u001b[0mstr\u001b[0m \u001b[1;33m=\u001b[0m \u001b[0mx\u001b[0m\u001b[1;33m.\u001b[0m\u001b[0mget_text\u001b[0m\u001b[1;33m(\u001b[0m\u001b[1;33m)\u001b[0m\u001b[1;33m\u001b[0m\u001b[1;33m\u001b[0m\u001b[0m\n\u001b[0;32m     52\u001b[0m                         \u001b[0mprint\u001b[0m\u001b[1;33m(\u001b[0m\u001b[0mstr\u001b[0m\u001b[1;33m)\u001b[0m\u001b[1;33m\u001b[0m\u001b[1;33m\u001b[0m\u001b[0m\n\u001b[1;32m---> 53\u001b[1;33m                         \u001b[0mf\u001b[0m\u001b[1;33m.\u001b[0m\u001b[0mwrite\u001b[0m\u001b[1;33m(\u001b[0m\u001b[0mstr\u001b[0m \u001b[1;33m+\u001b[0m \u001b[1;34m\"\\n\"\u001b[0m\u001b[1;33m)\u001b[0m\u001b[1;33m\u001b[0m\u001b[1;33m\u001b[0m\u001b[0m\n\u001b[0m\u001b[0;32m     54\u001b[0m \u001b[1;33m\u001b[0m\u001b[0m\n\u001b[0;32m     55\u001b[0m \u001b[1;33m\u001b[0m\u001b[0m\n",
      "\u001b[1;31mUnicodeEncodeError\u001b[0m: 'gbk' codec can't encode character '\\u2020' in position 9: illegal multibyte sequence"
     ]
    }
   ],
   "source": [
    "import sys\n",
    "import importlib\n",
    "importlib.reload(sys)\n",
    "\n",
    "from pdfminer.pdfparser import PDFParser, PDFDocument\n",
    "from pdfminer.pdfinterp import PDFResourceManager, PDFPageInterpreter\n",
    "from pdfminer.converter import PDFPageAggregator\n",
    "from pdfminer.layout import LTTextBoxHorizontal, LAParams\n",
    "from pdfminer.pdfinterp import PDFTextExtractionNotAllowed\n",
    "\n",
    "def readPDF(path, aimPath):\n",
    "    #以二进制打开PDF文件\n",
    "    f = open(path, \"rb\")\n",
    "    \n",
    "    #创建一个文档分析器\n",
    "    parser = PDFParser(f)\n",
    "    \n",
    "    #创建pdf文档\n",
    "    pdfFile = PDFDocument()\n",
    "    \n",
    "    #链接文档与分析器(要双相连接)\n",
    "    parser.set_document(pdfFile)\n",
    "    pdfFile.set_parser(parser)\n",
    "    \n",
    "    #提供初始化密码\n",
    "    pdfFile.initialize()\n",
    "    \n",
    "    #检测文档是否提供txt转换\n",
    "    if not pdfFile.is_extractable:\n",
    "        raise PDFTextExtractionNotAllowed\n",
    "    else:\n",
    "        #解析数据\n",
    "        #数据管理器\n",
    "        manager = PDFResourceManager()\n",
    "        #创建一个pdf设备的对象\n",
    "        laparams = LAParams()\n",
    "        device = PDFPageAggregator(manager, laparams= laparams)\n",
    "        #创建解释器对象\n",
    "        interpreter = PDFPageInterpreter(manager, device)\n",
    "        \n",
    "        #开始循环处理， 每次处理一页\n",
    "        for page in pdfFile.get_pages():\n",
    "            interpreter.process_page(page)\n",
    "            #创建图层(pdf一页一页的)\n",
    "            layout = device.get_result()\n",
    "            #循环处理图层\n",
    "            for x in layout:\n",
    "                #判断是否为可处理数据类型\n",
    "                if (isinstance(x, LTTextBoxHorizontal)):\n",
    "                    with open(aimPath, \"a\") as f:\n",
    "                        str = x.get_text()\n",
    "                        print(str)\n",
    "                        f.write(str + \"\\n\")\n",
    "        \n",
    "        \n",
    "\n",
    "\n",
    "\n",
    "\n",
    "path = r\"C:\\Users\\0.0\\Desktop\\RA2210终稿.pdf\"\n",
    "aimPath = r\"C:\\Users\\0.0\\Desktop\\1.txt\"\n",
    "readPDF(path, aimPath)\n",
    "\n",
    "#只能处理能转成文本的内容"
   ]
  },
  {
   "cell_type": "code",
   "execution_count": 29,
   "metadata": {
    "scrolled": true
   },
   "outputs": [
    {
     "name": "stdout",
     "output_type": "stream",
     "text": [
      "阿萨德按时大大 \n",
      "Asddafa \n",
      ".][ \n",
      "./.. \n",
      ".. \n",
      "\n",
      "adas \n",
      "\n"
     ]
    }
   ],
   "source": [
    "def readPDF(path, aimPath):\n",
    "    #以二进制打开PDF文件\n",
    "    f = open(path, \"rb\")\n",
    "    \n",
    "    #创建一个文档分析器\n",
    "    parser = PDFParser(f)\n",
    "    \n",
    "    #创建pdf文档\n",
    "    pdfFile = PDFDocument()\n",
    "    \n",
    "    #链接文档与分析器(要双相连接)\n",
    "    parser.set_document(pdfFile)\n",
    "    pdfFile.set_parser(parser)\n",
    "    \n",
    "    #提供初始化密码\n",
    "    pdfFile.initialize()\n",
    "    \n",
    "    #检测文档是否提供txt转换\n",
    "    if not pdfFile.is_extractable:\n",
    "        raise PDFTextExtractionNotAllowed\n",
    "    else:\n",
    "        #解析数据\n",
    "        #数据管理器\n",
    "        manager = PDFResourceManager()\n",
    "        #创建一个pdf设备的对象\n",
    "        laparams = LAParams()\n",
    "        device = PDFPageAggregator(manager, laparams= laparams)\n",
    "        #创建解释器对象\n",
    "        interpreter = PDFPageInterpreter(manager, device)\n",
    "        \n",
    "        #开始循环处理， 每次处理一页\n",
    "        for page in pdfFile.get_pages():\n",
    "            interpreter.process_page(page)\n",
    "            #创建图层(pdf一页一页的)\n",
    "            layout = device.get_result()\n",
    "            #循环处理图层\n",
    "            for x in layout:\n",
    "                #判断是否为可处理数据类型\n",
    "                if (isinstance(x, LTTextBoxHorizontal)):\n",
    "                    with open(aimPath, \"a\") as f:\n",
    "                        str = x.get_text()\n",
    "                        #处理数据 加个空列表\n",
    "                        print(str)\n",
    "                        f.write(str + \"\\n\")\n",
    "\n",
    "path = r\"C:\\Users\\0.0\\Desktop\\Python Test\\testPdf.pdf\"\n",
    "aimPath = r\"C:\\Users\\0.0\\Desktop\\Python Test\\2.txt\"\n",
    "readPDF(path, aimPath)"
   ]
  },
  {
   "cell_type": "code",
   "execution_count": null,
   "metadata": {},
   "outputs": [],
   "source": [
    "读word"
   ]
  },
  {
   "cell_type": "code",
   "execution_count": 30,
   "metadata": {},
   "outputs": [],
   "source": [
    "import win32com\n"
   ]
  },
  {
   "cell_type": "code",
   "execution_count": null,
   "metadata": {},
   "outputs": [],
   "source": []
  }
 ],
 "metadata": {
  "kernelspec": {
   "display_name": "Python 3",
   "language": "python",
   "name": "python3"
  },
  "language_info": {
   "codemirror_mode": {
    "name": "ipython",
    "version": 3
   },
   "file_extension": ".py",
   "mimetype": "text/x-python",
   "name": "python",
   "nbconvert_exporter": "python",
   "pygments_lexer": "ipython3",
   "version": "3.7.3"
  }
 },
 "nbformat": 4,
 "nbformat_minor": 2
}
