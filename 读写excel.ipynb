{
 "cells": [
  {
   "cell_type": "code",
   "execution_count": 51,
   "metadata": {},
   "outputs": [
    {
     "name": "stdout",
     "output_type": "stream",
     "text": [
      "['Sheet1', 'Sheet2', 'Sheet3']\n",
      "<Worksheet \"Sheet1\"> 33 11 Sheet1\n",
      "['上海工程技术大学研究生参加国内或国际会议资助申请表']\n",
      "[]\n",
      "['申请人情况', '申请人姓名：', '学院：', '学号：']\n",
      "['学生联系方式：', '导师姓名：', '工号：']\n",
      "['参会会议名称：']\n",
      "['会议举办时间：', '会议举办地点：']\n",
      "['是否作报告：o是o否', '报告类别：o口头报告  o海报  o视频  o其他_______']\n",
      "['是否录用研究生本人论文：o是o否', '级别：oSCI  o EI  o 其他______']\n",
      "['论文题目：']\n",
      "['论文作者排序：o研究生第一   o导师第一，研究生第二']\n",
      "['论文第一署名单位：', '申请资助金额：']\n",
      "['申请研究生处资助费用类别：o会务费 o版面费 o培训费 o差旅费 o其他_____']\n",
      "['发票情况：o已有发票   o暂没有发票（预计收到发票时间：       ）']\n",
      "['申请人承诺：']\n",
      "['    本人经导师同意，参加此次会议。参会期间，时刻注意人身安全，并及时向学院汇报行程，会议结束后即刻返回学校，递交相关参会资料，配合学校完成财务报销、冲账及数据统计等相关工作。']\n",
      "[]\n",
      "[]\n",
      "['本人签名：', '日期：']\n",
      "['导师意见']\n",
      "[]\n",
      "[]\n",
      "['导师签名：', '日期：']\n",
      "['学院意见']\n",
      "[]\n",
      "[]\n",
      "['部门负责人签名：']\n",
      "['部门盖章', '日期：']\n",
      "['研究生处意见']\n",
      "['同意资助____________（类别），共计_________元。']\n",
      "[]\n",
      "[]\n",
      "['部门负责人签名：']\n",
      "['部门盖章', '日期：']\n"
     ]
    }
   ],
   "source": [
    "from openpyxl.reader.excel import load_workbook \n",
    "\n",
    "#创建字典，将excel中每一个sheet名作为key，内容作为value\n",
    "#value为list格式，二维，[[,,,],[,,,],[,,,]] 每一行为一个小列表，每一列为小列表里一个元素\n",
    "def readXlsxFile(path):\n",
    "    #打开文件\n",
    "    file = load_workbook(path)\n",
    "    \n",
    "    #打印每个sheet name\n",
    "    print(file.sheetnames)\n",
    "    sheets = file.sheetnames\n",
    "    \n",
    "    #拿出一个sheet\n",
    "    sheet = file[sheets[0]]\n",
    "    print(sheet, sheet.max_row, sheet.max_column, sheet.title)\n",
    "    \n",
    "    for lineNum in range(1, sheet.max_row + 1):  #注意从1开始\n",
    "        lineData = []\n",
    "        for columnNum in range(1, sheet.max_column + 1):\n",
    "            #拿数据\n",
    "            value = sheet.cell(row = lineNum, column = columnNum).value\n",
    "            #print(value)\n",
    "            if value != None:  #如果写数据， None需要考虑\n",
    "                lineData.append(value)\n",
    "        print(lineData)\n",
    "        \n",
    "\n",
    "#此方法不能处理xls文件\n",
    "path = r\"C:\\Users\\0.0\\Desktop\\Python Test\\附件1.上海工程技术大学研究生参加国内或国际会议申请表.xlsx\"\n",
    "readXlsxFile(path)"
   ]
  },
  {
   "cell_type": "code",
   "execution_count": 69,
   "metadata": {
    "scrolled": true
   },
   "outputs": [
    {
     "name": "stdout",
     "output_type": "stream",
     "text": [
      "['Sheet1', 'Sheet2', 'Sheet3']\n",
      "<Worksheet \"Sheet1\"> 33 11 Sheet1\n",
      "<Worksheet \"Sheet2\"> 2 8 Sheet2\n",
      "<Worksheet \"Sheet3\"> 3 4 Sheet3\n",
      "{'Sheet1': [['上海工程技术大学研究生参加国内或国际会议资助申请表'], [], ['申请人情况', '申请人姓名：', '学院：', '学号：'], ['学生联系方式：', '导师姓名：', '工号：'], ['参会会议名称：'], ['会议举办时间：', '会议举办地点：'], ['是否作报告：o是o否', '报告类别：o口头报告  o海报  o视频  o其他_______'], ['是否录用研究生本人论文：o是o否', '级别：oSCI  o EI  o 其他______'], ['论文题目：'], ['论文作者排序：o研究生第一   o导师第一，研究生第二'], ['论文第一署名单位：', '申请资助金额：'], ['申请研究生处资助费用类别：o会务费 o版面费 o培训费 o差旅费 o其他_____'], ['发票情况：o已有发票   o暂没有发票（预计收到发票时间：       ）'], ['申请人承诺：'], ['    本人经导师同意，参加此次会议。参会期间，时刻注意人身安全，并及时向学院汇报行程，会议结束后即刻返回学校，递交相关参会资料，配合学校完成财务报销、冲账及数据统计等相关工作。'], [], [], ['本人签名：', '日期：'], ['导师意见'], [], [], ['导师签名：', '日期：'], ['学院意见'], [], [], ['部门负责人签名：'], ['部门盖章', '日期：'], ['研究生处意见'], ['同意资助____________（类别），共计_________元。'], [], [], ['部门负责人签名：'], ['部门盖章', '日期：']], 'Sheet2': [['a', 'b', 'b', 'd', 1, 2, 3, 4], ['A', 'B', 'C', 'D', 7, 8, 9, 0]], 'Sheet3': [['q', 'w', 'e', 'r'], [], ['zx', 'cv', 'bn', 'mm']]}\n",
      "[['a', 'b', 'b', 'd', 1, 2, 3, 4], ['A', 'B', 'C', 'D', 7, 8, 9, 0]]\n"
     ]
    }
   ],
   "source": [
    "#返回文件整体内容(所有sheet)\n",
    "\n",
    "from openpyxl.reader.excel import load_workbook \n",
    "def readXlsxFile(path):\n",
    "    dic = {}\n",
    "    file = load_workbook(path)\n",
    "    print(file.sheetnames)\n",
    "    sheets = file.sheetnames\n",
    "    #遍历所有sheet\n",
    "    for sheetName in sheets:\n",
    "        sheet = file[sheetName] \n",
    "        print(sheet, sheet.max_row, sheet.max_column, sheet.title)\n",
    "        #一张表的所有数据\n",
    "        sheetInfo = []\n",
    "        for lineNum in range(1, sheet.max_row + 1):  #注意从1开始\n",
    "            lineData = []\n",
    "            for columnNum in range(1, sheet.max_column + 1):\n",
    "                value = sheet.cell(row = lineNum, column = columnNum).value\n",
    "                if value != None:\n",
    "                    lineData.append(value)\n",
    "            #print(lineData)\n",
    "        #sheetInfo.append(lineData)\n",
    "        #print(sheetInfo)            只打印最后一行\n",
    "            sheetInfo.append(lineData) #简单理解 lineData在那个层级，最后对其整体处理就在哪个层级\n",
    "        #print(sheetInfo)\n",
    "        dic[sheetName] = sheetInfo\n",
    "    return dic\n",
    "  \n",
    "    \n",
    "\n",
    "path = r\"C:\\Users\\0.0\\Desktop\\Python Test\\附件1.上海工程技术大学研究生参加国内或国际会议申请表.xlsx\"\n",
    "dic = readXlsxFile(path)\n",
    "print(dic)\n",
    "print(dic[\"Sheet2\"])"
   ]
  },
  {
   "cell_type": "code",
   "execution_count": 66,
   "metadata": {},
   "outputs": [
    {
     "name": "stdout",
     "output_type": "stream",
     "text": [
      "['Sheet1', 'Sheet2', 'Sheet3']\n",
      "<Worksheet \"Sheet1\"> 33 11 Sheet1\n",
      "<Worksheet \"Sheet2\"> 2 8 Sheet2\n",
      "<Worksheet \"Sheet3\"> 3 4 Sheet3\n",
      "{'Sheet1': [['上海工程技术大学研究生参加国内或国际会议资助申请表'], [], ['申请人情况', '申请人姓名：', '学院：', '学号：'], ['学生联系方式：', '导师姓名：', '工号：'], ['参会会议名称：'], ['会议举办时间：', '会议举办地点：'], ['是否作报告：o是o否', '报告类别：o口头报告  o海报  o视频  o其他_______'], ['是否录用研究生本人论文：o是o否', '级别：oSCI  o EI  o 其他______'], ['论文题目：'], ['论文作者排序：o研究生第一   o导师第一，研究生第二'], ['论文第一署名单位：', '申请资助金额：'], ['申请研究生处资助费用类别：o会务费 o版面费 o培训费 o差旅费 o其他_____'], ['发票情况：o已有发票   o暂没有发票（预计收到发票时间：       ）'], ['申请人承诺：'], ['    本人经导师同意，参加此次会议。参会期间，时刻注意人身安全，并及时向学院汇报行程，会议结束后即刻返回学校，递交相关参会资料，配合学校完成财务报销、冲账及数据统计等相关工作。'], [], [], ['本人签名：', '日期：'], ['导师意见'], [], [], ['导师签名：', '日期：'], ['学院意见'], [], [], ['部门负责人签名：'], ['部门盖章', '日期：'], ['研究生处意见'], ['同意资助____________（类别），共计_________元。'], [], [], ['部门负责人签名：'], ['部门盖章', '日期：']], 'Sheet2': [['a', 'b', 'b', 'd', 1, 2, 3, 4], ['A', 'B', 'C', 'D', 7, 8, 9, 0]], 'Sheet3': [['q', 'w', 'e', 'r'], [], ['zx', 'cv', 'bn', 'mm']]}\n"
     ]
    }
   ],
   "source": [
    "#有序字典\n",
    "from collections import OrderedDict\n",
    "\n",
    "#读取数据方法\n",
    "from pyexcel_xls import get_data\n",
    "\n",
    "def readXlsxAndXlsFile(path):\n",
    "    #创建有序字典\n",
    "    dic = OrderedDict()\n",
    "    \n",
    "    #取数据    这里是整个sheet的数据一起\n",
    "    xdata = get_data(path)\n",
    "    #print(xdata)\n",
    "    for sheet in xdata:\n",
    "        dic[sheet] = xdata\n",
    "    return dic\n",
    "\n",
    "path = r\"C:\\Users\\0.0\\Desktop\\Python Test\\附件1.上海工程技术大学研究生参加国内或国际会议申请表.xlsx\"\n",
    "dic = readXlsxFile(path)\n",
    "print(dic)"
   ]
  },
  {
   "cell_type": "code",
   "execution_count": 84,
   "metadata": {},
   "outputs": [
    {
     "name": "stdout",
     "output_type": "stream",
     "text": [
      "OrderedDict([('sheet1', [[1, 2, 3], [4, 5, 6], [7, 8, 9]])])\n",
      "OrderedDict([('sheet1', [[1, 2, 3], [4, 5, 6], [7, 8, 9]]), ('sheet2', [[11, 22, 33], [44, 55, 66], [77, 88, 99]])])\n",
      "None\n"
     ]
    }
   ],
   "source": [
    "#写入xls文件\n",
    "from collections import OrderedDict\n",
    "from pyexcel_xls import save_data\n",
    "\n",
    "def writeExcleFile(path, data):\n",
    "    dic = OrderedDict()\n",
    "    for sheetName, sheetValue in data.items():\n",
    "        #print(data.items())\n",
    "        d = {}\n",
    "        d[sheetName] = sheetValue\n",
    "        dic.update(d)\n",
    "        print(dic)\n",
    "    \n",
    "    save_data(path, dic)\n",
    "\n",
    "path = r\"C:\\Users\\0.0\\Desktop\\Python Test\\write.xls\"\n",
    "data = {\"sheet1\": [[1,2,3],[4,5,6],[7,8,9]],\n",
    "        \"sheet2\": [[11,22,33],[44,55,66],[77,88,99]]}\n",
    "file = writeExcleFile(path, data)\n",
    "print(file)"
   ]
  },
  {
   "cell_type": "code",
   "execution_count": 85,
   "metadata": {},
   "outputs": [
    {
     "name": "stdout",
     "output_type": "stream",
     "text": [
      "OrderedDict([('sheet1', [[1, 2, 3], [4, 5, 6], [7, 8, 9]])])\n",
      "OrderedDict([('sheet1', [[1, 2, 3], [4, 5, 6], [7, 8, 9]]), ('sheet2', [[11, 22, 33], [44, 55, 66], [77, 88, 99]])])\n"
     ]
    }
   ],
   "source": [
    "#写入xls文件\n",
    "from collections import OrderedDict\n",
    "from pyexcel_xls import save_data\n",
    "\n",
    "def writeExcleFile(path, data):\n",
    "    dic = OrderedDict()\n",
    "    for sheetName, sheetValue in data.items():\n",
    "        #print(data.items())\n",
    "        #d = {}\n",
    "        dic[sheetName] = sheetValue\n",
    "        print(dic)\n",
    "        #dic.update(d)\n",
    "    #return dic\n",
    "    save_data(path, dic)\n",
    "\n",
    "path = r\"C:\\Users\\0.0\\Desktop\\Python Test\\write2.xls\"\n",
    "data = {\"sheet1\": [[1,2,3],[4,5,6],[7,8,9]],\n",
    "        \"sheet2\": [[11,22,33],[44,55,66],[77,88,99]]}\n",
    "file = writeExcleFile(path, data)\n",
    "#print(file)"
   ]
  },
  {
   "cell_type": "code",
   "execution_count": null,
   "metadata": {},
   "outputs": [],
   "source": []
  },
  {
   "cell_type": "code",
   "execution_count": null,
   "metadata": {},
   "outputs": [],
   "source": []
  }
 ],
 "metadata": {
  "kernelspec": {
   "display_name": "Python 3",
   "language": "python",
   "name": "python3"
  },
  "language_info": {
   "codemirror_mode": {
    "name": "ipython",
    "version": 3
   },
   "file_extension": ".py",
   "mimetype": "text/x-python",
   "name": "python",
   "nbconvert_exporter": "python",
   "pygments_lexer": "ipython3",
   "version": "3.7.3"
  }
 },
 "nbformat": 4,
 "nbformat_minor": 2
}
