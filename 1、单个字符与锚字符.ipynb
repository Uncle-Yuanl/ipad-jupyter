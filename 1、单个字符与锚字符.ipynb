{
 "cells": [
  {
   "cell_type": "code",
   "execution_count": 1,
   "metadata": {},
   "outputs": [],
   "source": [
    "# re模块\n",
    "\n",
    "import re\n",
    "'''\n",
    "re.match(pattern, string, flags = 0)\n",
    "功能：尝试从字符串起始位置匹配一个模式，如果不是起始位置匹配成功的话，返回None\n",
    "例如：asdcz12345465798asmnczmnalsn中找到11位号码  string中找到带有pattern特性的子串\n",
    "参数：\n",
    "pattern: 匹配的正则表达式\n",
    "string： 要匹配的字符串\n",
    "flags：  标志位，用于控制正则表达式的匹配方式\n",
    "re.I     忽略大小写  *\n",
    "re.L     做本地识别\n",
    "re.M     多行匹配， 忽略~和$   *\n",
    "re.S     使.能匹配换行符在内的任意字符   *\n",
    "re.U     根据Unicode字符集解析字符，影响\\w, \\W, \\b, \\B\n",
    "re.X     使我们以更灵活的格式理解正则表达式\n",
    "'''\n"
   ]
  },
  {
   "cell_type": "code",
   "execution_count": 5,
   "metadata": {},
   "outputs": [
    {
     "name": "stdout",
     "output_type": "stream",
     "text": [
      "<re.Match object; span=(0, 3), match='www'>\n",
      "(0, 3)\n",
      "None\n",
      "None\n",
      "None\n",
      "<re.Match object; span=(0, 3), match='www'>\n"
     ]
    }
   ],
   "source": [
    "#re.match\n",
    "#看网址有没有www.\n",
    "\n",
    "print(re.match(\"www\", \"www.baidu.com\"))\n",
    "print(re.match(\"www\", \"www.baiduwww.com\").span())    # 返回span(下表)\n",
    "print(re.match(\"www\", \"ww.baidu.com\"))\n",
    "print(re.match(\"www\", \"baidu.www.com\"))\n",
    "print(re.match(\"www\", \"wwW.baidu.com\"))\n",
    "print(re.match(\"www\", \"www.baidu.com\", flags = re.I))\n",
    "\n"
   ]
  },
  {
   "cell_type": "code",
   "execution_count": 7,
   "metadata": {},
   "outputs": [
    {
     "name": "stdout",
     "output_type": "stream",
     "text": [
      "<re.Match object; span=(12, 17), match='sunck'>\n"
     ]
    }
   ],
   "source": [
    "#re.search\n",
    "'''\n",
    "re.search(pattern, string, flags = 0)\n",
    "功能：扫描整个字符串，并返回第一个成功的匹配\n",
    "\n",
    "'''\n",
    "print(re.search(\"sunck\", \"good man is sunck, but sunck is a nice man! \"))"
   ]
  },
  {
   "cell_type": "code",
   "execution_count": 8,
   "metadata": {},
   "outputs": [
    {
     "name": "stdout",
     "output_type": "stream",
     "text": [
      "['sunck', 'sunck']\n"
     ]
    }
   ],
   "source": [
    "#re.findall()\n",
    "'''\n",
    "re.findall(pattern, string, flags = 0)\n",
    "功能：扫描整个字符串，并返回结果列表\n",
    "'''\n",
    "print(re.findall(\"sunck\", \"good man is sunck, but sunck is a nice man! \"))"
   ]
  },
  {
   "cell_type": "code",
   "execution_count": 19,
   "metadata": {},
   "outputs": [
    {
     "name": "stdout",
     "output_type": "stream",
     "text": [
      "<re.Match object; span=(0, 1), match='s'>\n",
      "<re.Match object; span=(11, 12), match='1'>\n",
      "['1', '8']\n",
      "<re.Match object; span=(14, 15), match='b'>\n",
      "<re.Match object; span=(0, 1), match='s'>\n",
      "['s', 'u', 'n', 'c', 'k', 'i', 's', 'a', 'b', 'o', 'y']\n",
      "['1', '8']\n",
      "['1', '8']\n",
      "[]\n",
      "['s', 'u', 'n', 'c', 'k', ' ', 'i', 's', ' ', 'a', ' ', ' ', 'b', 'o', 'y']\n",
      "['s', 'u', 'n', 'c', 'k', ' ', 'i', 's', ' ', 'a', ' ', ' ', 'b', 'o', 'y']\n"
     ]
    }
   ],
   "source": [
    "#重点是pattern的书写\n",
    "\n",
    "#匹配单个字符与数字\n",
    "r'''\n",
    ".  匹配除换行符以外的任意字符\n",
    "[0123456789]  是字符集合， 表示匹配方括号中所包含的任意一个字符  也可[0-9]  \n",
    "[a-z]         匹配任意小写字母\n",
    "[A-Z]         匹配任意大写字母\n",
    "[0-9a-zA-Z]   匹配任意字母和数字   不加空格  空格也是一个字符\n",
    "[0-9a-zA-Z_]  匹配任意字母和数字和下划线\n",
    "[^sunck]      匹配除了sunck以外的所有字符，~为脱字符\n",
    "\\d = [0-9]\n",
    "\\D = [^\\d]\n",
    "\\w = [0-9a-zA-Z_]    判断标志符有用\n",
    "\\W [^\\w]\n",
    "\\s            匹配任意空白符  （空格、换行、回车、换页、制表） \\s = [ \\f\\n\\r\\t]\n",
    "\\S            匹配任意非空白符\n",
    "\n",
    "'''\n",
    "\n",
    "\n",
    "print(re.search(\".\", \"sunck\"))\n",
    "print(re.search(\"[0123456789]\", \"sunck is a 18 boy\"))  #只输出第一个\n",
    "print(re.findall(\"[0123456789]\", \"sunck is a 18 boy\"))\n",
    "print(re.search(\"[yob]\", \"sunck is a 18 boy\"))         #[yob]  看做\"y\"、\"o\"、\"b\"单个字符\n",
    "\n",
    "print(re.search(\"[a-z]\", \"sunck is a 18 boy\"))\n",
    "print(re.findall(\"[a-z]\", \"sunck is a 18 boy\"))        #返回的是单个字符的列表\n",
    "\n",
    "print(re.findall(\"[0-9]\", \"sunck is a 18 boy\"))\n",
    "print(re.findall(\"\\d\", \"sunck is a 18 boy\"))           #\\d = [0-9]  本身为一个集合\n",
    "print(re.findall(\"^\\d\", \"sunck is a 18 boy\"))\n",
    "print(re.findall(\"[^\\d]\", \"sunck is a 18 boy\"))        #但是取非需要加括号形成集合\n",
    "print(re.findall(\"\\D\", \"sunck is a 18 boy\"))           #\\D = [^\\d]"
   ]
  },
  {
   "cell_type": "code",
   "execution_count": 31,
   "metadata": {},
   "outputs": [
    {
     "name": "stdout",
     "output_type": "stream",
     "text": [
      "<re.Match object; span=(0, 5), match='sunck'>\n",
      "<re.Match object; span=(16, 19), match='man'>\n",
      "['sunck', 'sunck']\n",
      "['sunck']\n",
      "<re.Match object; span=(3, 5), match='er'>\n",
      "None\n",
      "None\n",
      "<re.Match object; span=(1, 3), match='er'>\n"
     ]
    }
   ],
   "source": [
    "#匹配锚字符（边界字符）\n",
    "'''\n",
    "^         行首匹配，和[^]不是一个意思 \n",
    "$         行尾匹配\n",
    "\\A        匹配字符串开始， 与^的区别：\\A只匹配整个字符串的开头，即使在re.M模式下也不会匹配其他多行的行首\n",
    "\\Z        匹配字符串结束， 与$的区别：\\Z只匹配整个字符串的开头，即使在re.M模式下也不会匹配其他多行的行尾\n",
    "\\b        匹配一个单词的边界，即词单词与空格间的位置  注意加r\n",
    "\\B        匹配非单词的边界\n",
    "\n",
    "'''\n",
    "\n",
    "print(re.search(\"^sunck\", \"sunck is a good man\"))\n",
    "print(re.search(\"man$\", \"sunck is a good man\"))\n",
    "\n",
    "print(re.findall(\"^sunck\", \"sunck is a good man\\nsunck is a nice man\", re.M))\n",
    "print(re.findall(\"\\Asunck\", \"sunck is a good man\\nsunck is a nice man\", re.M))\n",
    "\n",
    "print(re.search(r\"er\\b\", \"never say never\"))     #从后往前\n",
    "print(re.search(r\"er\\b\", \"nerve\"))\n",
    "print(re.search(r\"er\\B\", \"never\"))\n",
    "print(re.search(r\"er\\B\", \"nerve say never\"))     #从前往后"
   ]
  }
 ],
 "metadata": {
  "kernelspec": {
   "display_name": "Python 3",
   "language": "python",
   "name": "python3"
  },
  "language_info": {
   "codemirror_mode": {
    "name": "ipython",
    "version": 3
   },
   "file_extension": ".py",
   "mimetype": "text/x-python",
   "name": "python",
   "nbconvert_exporter": "python",
   "pygments_lexer": "ipython3",
   "version": "3.7.3"
  }
 },
 "nbformat": 4,
 "nbformat_minor": 2
}
