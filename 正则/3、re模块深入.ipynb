{
 "cells": [
  {
   "cell_type": "code",
   "execution_count": 3,
   "metadata": {
    "scrolled": true
   },
   "outputs": [
    {
     "name": "stdout",
     "output_type": "stream",
     "text": [
      "['sunck', '', '', '', '', '', '', 'is', 'a', 'good', 'man']\n",
      "['sunck', '', '', '', '', '', '', 'is', 'a', 'good', 'man']\n",
      "['sunck', 'is', 'a', 'good', 'man']\n"
     ]
    }
   ],
   "source": [
    "import re\n",
    "#字符串切割\n",
    "str1 = \"sunck       is a good man\"\n",
    "print(str1.split(\" \"))\n",
    "print(re.split(\" \", str1))\n",
    "print(re.split(\" +\", str1))"
   ]
  },
  {
   "cell_type": "code",
   "execution_count": 8,
   "metadata": {},
   "outputs": [
    {
     "name": "stdout",
     "output_type": "stream",
     "text": [
      "<re.Match object; span=(0, 5), match='sunck'>\n",
      "<re.Match object; span=(20, 25), match='sunck'>\n",
      "<re.Match object; span=(40, 45), match='sunck'>\n"
     ]
    }
   ],
   "source": [
    "#re.finditer(pattern, string, flags = )函数\n",
    "#功能：与findall类似，扫描整个字符串，返回一个迭代器\n",
    "\n",
    "str2 = \"sunck is a good man!sunck is a nice man!sunck is a handsome man!\"\n",
    "d = re.finditer(\"(sunck)\", str2)\n",
    "while True:\n",
    "    try:\n",
    "        l = next(d)\n",
    "        print(l)\n",
    "    except StopIteration:\n",
    "        break"
   ]
  },
  {
   "cell_type": "code",
   "execution_count": 13,
   "metadata": {},
   "outputs": [
    {
     "name": "stdout",
     "output_type": "stream",
     "text": [
      "sunck is a nice nice nice man!\n",
      "<class 'str'>\n",
      "('sunck is a nice nice nice man!', 3)\n",
      "<class 'tuple'>\n"
     ]
    }
   ],
   "source": [
    "'''\n",
    "字符串的替换与修改\n",
    "re.sub(pattern, repl, string, count = 0, flags = 0)\n",
    "re.subn()\n",
    "repl: 用来替换的字符串，即替换后字符串\n",
    "count： 最多替换次数  默认替换所有\n",
    "功能：在目标字符串中以指定的pattern匹配字符串，然后替换\n",
    "'''\n",
    "str3 = \"sunck is a good good good man!\"\n",
    "print(re.sub(\"(good)\", \"nice\", str3))         #返回修改后字符串\n",
    "print(type(re.sub(\"(good)\", \"nice\", str3)))\n",
    "print(re.subn(\"(good)\", \"nice\", str3))        #返回元组， 知道修改了多少次\n",
    "print(type(re.subn(\"(good)\", \"nice\", str3)))"
   ]
  },
  {
   "cell_type": "code",
   "execution_count": 23,
   "metadata": {},
   "outputs": [
    {
     "name": "stdout",
     "output_type": "stream",
     "text": [
      "<re.Match object; span=(0, 12), match='010-85451163'>\n",
      "010-85451163\n",
      "010\n",
      "85451163\n",
      "('010', '85451163')\n",
      "****\n",
      "010-85451163\n",
      "010-85451163\n",
      "010\n",
      "('010-85451163', '010', '85451163')\n"
     ]
    }
   ],
   "source": [
    "#分组！！！！！\n",
    "#除了简单的判断，正则表达式还有提取子串的功能，用()表示的就是提取分组\n",
    "\n",
    "str4 = \"010-85451163\" \n",
    "m = re.match(r\"(\\d{3})-(\\d{8})\", str4)\n",
    "print(m)\n",
    "\n",
    "#使用序号获取对应组信息\n",
    "print(m.group(0))     #group(0)代表原始字符串string\n",
    "print(m.group(1))\n",
    "print(m.group(2))\n",
    "#print(m.group(3))   报错 中止\n",
    "print(m.groups())\n",
    "print(\"****\")\n",
    "n = re.match(r\"((\\d{3})-(\\d{8}))\", str4)\n",
    "print(n.group(0))     \n",
    "print(n.group(1))\n",
    "print(n.group(2))\n",
    "print(n.groups())"
   ]
  },
  {
   "cell_type": "code",
   "execution_count": 26,
   "metadata": {
    "scrolled": true
   },
   "outputs": [
    {
     "name": "stdout",
     "output_type": "stream",
     "text": [
      "('010', '85451163')\n",
      "85451163\n"
     ]
    }
   ],
   "source": [
    "#给分组取名\n",
    "\n",
    "mn = re.match(r\"(?P<first>\\d{3})-(?P<last>\\d{8})\", str4)\n",
    "print(mn.groups())\n",
    "print(mn.group(\"last\"))"
   ]
  },
  {
   "cell_type": "code",
   "execution_count": 27,
   "metadata": {},
   "outputs": [
    {
     "name": "stdout",
     "output_type": "stream",
     "text": [
      "<re.Match object; span=(0, 11), match='13900000000'>\n",
      "<re.Match object; span=(0, 11), match='13900000000'>\n"
     ]
    }
   ],
   "source": [
    "#编译\n",
    "#re.compile(pattern, flags = )\n",
    "#功能：将指定的pattern编译成对象，这个对象具有match、search、findall等功能\n",
    "'''\n",
    "正则化表达两步骤\n",
    "1、编译正则表达式，若不合法则报错\n",
    "2、用编译后的正则表达式匹配\n",
    "'''\n",
    "pat = r\"^1(([3578]\\d)|(47))\\d{8}$\"\n",
    "print(re.match(pat, \"13900000000\"))\n",
    "re_telephone = re.compile(pat)         #习惯：re_表示编译后  telephone表示功能\n",
    "print(re_telephone.match(\"13900000000\"))"
   ]
  }
 ],
 "metadata": {
  "kernelspec": {
   "display_name": "Python 3",
   "language": "python",
   "name": "python3"
  },
  "language_info": {
   "codemirror_mode": {
    "name": "ipython",
    "version": 3
   },
   "file_extension": ".py",
   "mimetype": "text/x-python",
   "name": "python",
   "nbconvert_exporter": "python",
   "pygments_lexer": "ipython3",
   "version": "3.7.3"
  }
 },
 "nbformat": 4,
 "nbformat_minor": 2
}
