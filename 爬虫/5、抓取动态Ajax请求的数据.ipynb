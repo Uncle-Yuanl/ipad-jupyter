{
 "cells": [
  {
   "cell_type": "code",
   "execution_count": null,
   "metadata": {},
   "outputs": [],
   "source": [
    "import urllib.request\n",
    "import ssl\n",
    "import json\n",
    "\n",
    "def ajaxCrawler(url):\n",
    "    header = {\n",
    "        \"User-Agent\": \"Mozilla/5.0 (Windows NT 10.0; WOW64) AppleWebKit/537.36 (KHTML, like Gecko) Chrome/74.0.3729.131 Safari/537.36\"\n",
    "    }\n",
    "    req = urllib.request.Request(url, headers = header)\n",
    "    \n",
    "    #使用ssl创建未验证的上下文  不用验证\n",
    "    context = ssl._create_unverified_context()  \n",
    "    \n",
    "    response = urllib.request.urlopen(req, context = context)\n",
    "    jsonStr = response.read().decode(\"utf-8\")\n",
    "    jsonData = json.loads(jsonStr)\n",
    "    return jsonData\n",
    "\n",
    "\n",
    "url1 = r\"https://movie.douban.com/j/new_search_subjects?sort=U&range=0,10&tags=&start=40&genres=%E7%A7%91%E5%B9%BB\"\n",
    "info = ajaxCrawler(url1)\n",
    "\n",
    "print(info)\n"
   ]
  },
  {
   "cell_type": "code",
   "execution_count": 5,
   "metadata": {},
   "outputs": [
    {
     "name": "stdout",
     "output_type": "stream",
     "text": [
      "20\n",
      "20\n",
      "20\n",
      "20\n",
      "20\n",
      "20\n",
      "20\n",
      "20\n",
      "20\n",
      "20\n"
     ]
    }
   ],
   "source": [
    "# 解决手动加载更多的问题\n",
    "\n",
    "urlPath = r\"https://movie.douban.com/j/chart/top_list?type=11&interval_id=100%3A90&action=&start=20&limit=20\"\n",
    "\n",
    "#默认有20个 从21开始\n",
    "for i in range(1, 11):\n",
    "    urlPath2 = r\"https://movie.douban.com/j/chart/top_list?type=11&interval_id=100%3A90&action=&start=\"+str(i*20)+\"&limit=20\"\n",
    "    info = ajaxCrawler(urlPath2)\n",
    "    print(len(info))\n",
    "\n"
   ]
  },
  {
   "cell_type": "code",
   "execution_count": null,
   "metadata": {},
   "outputs": [],
   "source": []
  }
 ],
 "metadata": {
  "kernelspec": {
   "display_name": "Python 3",
   "language": "python",
   "name": "python3"
  },
  "language_info": {
   "codemirror_mode": {
    "name": "ipython",
    "version": 3
   },
   "file_extension": ".py",
   "mimetype": "text/x-python",
   "name": "python",
   "nbconvert_exporter": "python",
   "pygments_lexer": "ipython3",
   "version": "3.7.3"
  }
 },
 "nbformat": 4,
 "nbformat_minor": 2
}
