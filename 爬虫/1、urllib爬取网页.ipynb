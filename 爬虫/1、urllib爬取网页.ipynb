{
 "cells": [
  {
   "cell_type": "code",
   "execution_count": 13,
   "metadata": {},
   "outputs": [
    {
     "name": "stdout",
     "output_type": "stream",
     "text": [
      "<class 'bytes'>\n",
      "<class 'str'>\n",
      "<class 'list'>\n"
     ]
    },
    {
     "ename": "TypeError",
     "evalue": "a bytes-like object is required, not 'list'",
     "output_type": "error",
     "traceback": [
      "\u001b[1;31m---------------------------------------------------------------------------\u001b[0m",
      "\u001b[1;31mTypeError\u001b[0m                                 Traceback (most recent call last)",
      "\u001b[1;32m<ipython-input-13-d1bf99d6b70c>\u001b[0m in \u001b[0;36m<module>\u001b[1;34m\u001b[0m\n\u001b[0;32m     25\u001b[0m \u001b[0mpath\u001b[0m \u001b[1;33m=\u001b[0m \u001b[1;34mr\"C:\\Users\\0.0\\Desktop\\Python Test\\pachong\\pa2.html\"\u001b[0m\u001b[1;33m\u001b[0m\u001b[1;33m\u001b[0m\u001b[0m\n\u001b[0;32m     26\u001b[0m \u001b[1;32mwith\u001b[0m \u001b[0mopen\u001b[0m\u001b[1;33m(\u001b[0m\u001b[0mpath\u001b[0m\u001b[1;33m,\u001b[0m \u001b[1;34m\"wb\"\u001b[0m\u001b[1;33m)\u001b[0m \u001b[1;32mas\u001b[0m \u001b[0mf\u001b[0m\u001b[1;33m:\u001b[0m\u001b[1;33m\u001b[0m\u001b[1;33m\u001b[0m\u001b[0m\n\u001b[1;32m---> 27\u001b[1;33m     \u001b[0mf\u001b[0m\u001b[1;33m.\u001b[0m\u001b[0mwrite\u001b[0m\u001b[1;33m(\u001b[0m\u001b[0mdata2\u001b[0m\u001b[1;33m)\u001b[0m\u001b[1;33m\u001b[0m\u001b[1;33m\u001b[0m\u001b[0m\n\u001b[0m",
      "\u001b[1;31mTypeError\u001b[0m: a bytes-like object is required, not 'list'"
     ]
    }
   ],
   "source": [
    "import urllib.request\n",
    "\n",
    "#向指定的url地址发起请求，并返回服务器响应的数据（文件的对象）\n",
    "response = urllib.request.urlopen(\"http://www.baidu.com\")\n",
    "#读取文件\n",
    "#1、读取全部文件，把读取到的数据赋值给一个字符串\n",
    "data = response.read()\n",
    "dataD = response.read().decode(\"utf-8\")\n",
    "#print(data)\n",
    "print(type(data))\n",
    "print(type(dataD))\n",
    "\n",
    "#2、读取一行\n",
    "#data = response.readline()\n",
    "\n",
    "#3、读取全部内容，读取到的数据复制给一个列表，一个元素是一行 建议使用\n",
    "data2 = response.readlines()\n",
    "print(type(data2))\n",
    "\n",
    "#将爬取到的文件写入文件\n",
    "path = r\"C:\\Users\\0.0\\Desktop\\Python Test\\pachong\\pa1.html\"\n",
    "with open(path, \"wb\") as f:\n",
    "    f.write(data)\n",
    "    \n",
    "path = r\"C:\\Users\\0.0\\Desktop\\Python Test\\pachong\\pa2.html\"\n",
    "with open(path, \"wb\") as f:\n",
    "    f.write(data2)"
   ]
  },
  {
   "cell_type": "code",
   "execution_count": 14,
   "metadata": {},
   "outputs": [
    {
     "name": "stdout",
     "output_type": "stream",
     "text": [
      "Bdpagetype: 1\n",
      "Bdqid: 0xa4852be600006918\n",
      "Cache-Control: private\n",
      "Content-Type: text/html\n",
      "Cxy_all: baidu+3b3a1cb4a971fe60d36ed5fee4c8e532\n",
      "Date: Wed, 18 Sep 2019 01:56:01 GMT\n",
      "Expires: Wed, 18 Sep 2019 01:55:23 GMT\n",
      "P3p: CP=\" OTI DSP COR IVA OUR IND COM \"\n",
      "Server: BWS/1.1\n",
      "Set-Cookie: BAIDUID=7347C62B6BC3858E062F7B20371D5632:FG=1; expires=Thu, 31-Dec-37 23:55:55 GMT; max-age=2147483647; path=/; domain=.baidu.com\n",
      "Set-Cookie: BIDUPSID=7347C62B6BC3858E062F7B20371D5632; expires=Thu, 31-Dec-37 23:55:55 GMT; max-age=2147483647; path=/; domain=.baidu.com\n",
      "Set-Cookie: PSTM=1568771761; expires=Thu, 31-Dec-37 23:55:55 GMT; max-age=2147483647; path=/; domain=.baidu.com\n",
      "Set-Cookie: delPer=0; path=/; domain=.baidu.com\n",
      "Set-Cookie: BDSVRTM=0; path=/\n",
      "Set-Cookie: BD_HOME=0; path=/\n",
      "Set-Cookie: H_PS_PSSID=1424_21124_18560_29523_29519_29721_29567_29221_26350; path=/; domain=.baidu.com\n",
      "Vary: Accept-Encoding\n",
      "X-Ua-Compatible: IE=Edge,chrome=1\n",
      "Connection: close\n",
      "Transfer-Encoding: chunked\n",
      "\n",
      "\n"
     ]
    }
   ],
   "source": [
    "#response 属性\n",
    "print(response.info())"
   ]
  },
  {
   "cell_type": "code",
   "execution_count": 16,
   "metadata": {},
   "outputs": [
    {
     "name": "stdout",
     "output_type": "stream",
     "text": [
      "200\n"
     ]
    }
   ],
   "source": [
    "#返回状态码  很多\n",
    "#200为成功， 304表示我们有缓存\n",
    "print(response.getcode())\n",
    "if response.getcode() == 200 or 304:\n",
    "    #文件处理\n",
    "    pass\n"
   ]
  },
  {
   "cell_type": "code",
   "execution_count": 17,
   "metadata": {},
   "outputs": [
    {
     "name": "stdout",
     "output_type": "stream",
     "text": [
      "http://www.baidu.com\n"
     ]
    }
   ],
   "source": [
    "#返回当前正在爬取的url地址\n",
    "print(response.geturl())"
   ]
  },
  {
   "cell_type": "code",
   "execution_count": 21,
   "metadata": {},
   "outputs": [],
   "source": [
    "#解码\n",
    "url = \"http://baidu.com/千峰教育\"\n",
    "newUrl = urllib.request.unquote(url)    #将中文编码\n",
    "#解码\n",
    "newUrl2 = urllib.request.unquote(newUrl)  #解码 将代码翻译成中文字符"
   ]
  }
 ],
 "metadata": {
  "kernelspec": {
   "display_name": "Python 3",
   "language": "python",
   "name": "python3"
  },
  "language_info": {
   "codemirror_mode": {
    "name": "ipython",
    "version": 3
   },
   "file_extension": ".py",
   "mimetype": "text/x-python",
   "name": "python",
   "nbconvert_exporter": "python",
   "pygments_lexer": "ipython3",
   "version": "3.7.3"
  }
 },
 "nbformat": 4,
 "nbformat_minor": 2
}
