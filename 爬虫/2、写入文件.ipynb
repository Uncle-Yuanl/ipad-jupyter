{
 "cells": [
  {
   "cell_type": "code",
   "execution_count": 2,
   "metadata": {},
   "outputs": [],
   "source": [
    "import urllib.request\n",
    "\n",
    "url = \"http://www.baidu.com\"\n",
    "path = r\"C:\\Users\\0.0\\Desktop\\Python Test\\pachong\\pa3.html\"\n",
    "urllib.request.urlretrieve(url, path)\n",
    "\n",
    "#问题：urlretrieve()在执行过程中会产生一些缓存\n",
    "#解决：清楚缓存\n",
    "urllib.request.urlcleanup()"
   ]
  }
 ],
 "metadata": {
  "kernelspec": {
   "display_name": "Python 3",
   "language": "python",
   "name": "python3"
  },
  "language_info": {
   "codemirror_mode": {
    "name": "ipython",
    "version": 3
   },
   "file_extension": ".py",
   "mimetype": "text/x-python",
   "name": "python",
   "nbconvert_exporter": "python",
   "pygments_lexer": "ipython3",
   "version": "3.7.3"
  }
 },
 "nbformat": 4,
 "nbformat_minor": 2
}
