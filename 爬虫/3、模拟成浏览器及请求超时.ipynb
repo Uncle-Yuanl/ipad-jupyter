{
 "cells": [
  {
   "cell_type": "code",
   "execution_count": 1,
   "metadata": {},
   "outputs": [],
   "source": [
    "import urllib.request\n",
    "import random\n",
    "\n",
    "url = \"http://www.baidu.com\"\n",
    "#模拟请求头  字典\n",
    "headers = {\n",
    "    \"User-Agent\":\"Mozilla/5.0 (Windows NT 10.0; WOW64) AppleWebKit/537.36 (KHTML, like Gecko) Chrome/74.0.3729.131 Safari/537.36\"\n",
    "}\n",
    "\n",
    "#设置一个请求体\n",
    "req = urllib.request.Request(url, headers = headers)\n",
    "\n",
    "#发起请求\n",
    "response = urllib.request.urlopen(req)\n",
    "\n",
    "\n",
    "#随机请求头\n",
    "agentList = [\n",
    "    \"\",\n",
    "    \"\",\n",
    "    \"\",\n",
    "]\n",
    "\n",
    "agentStr = random.choice(agentList)  #这里是字符串  不能直接添加字典"
   ]
  },
  {
   "cell_type": "code",
   "execution_count": null,
   "metadata": {},
   "outputs": [],
   "source": [
    "#向请求体里添加“User-Agent”\n",
    "req = urllib.request.Request(url)\n",
    "req.add_header(\"User-Agent\", agentStr)   #注意字典的键值对\n",
    "response = urllib.request.urlopen(req)\n",
    "print(response.read().decode(\"utf-8\"))"
   ]
  },
  {
   "cell_type": "code",
   "execution_count": null,
   "metadata": {},
   "outputs": [],
   "source": [
    "#如果网页长时间不响应，系统判断超时，放弃爬取\n",
    "path = \"http://www.baidu.com\"\n",
    "for i in range(1, 100):\n",
    "    try:\n",
    "        response = urllib.request.urlopen(path, timeout = 0.5)\n",
    "        print(len(response.read().decode(\"utf-8\")))\n",
    "    except:\n",
    "        print(\"请求超时，开始下一个爬取\")"
   ]
  }
 ],
 "metadata": {
  "kernelspec": {
   "display_name": "Python 3",
   "language": "python",
   "name": "python3"
  },
  "language_info": {
   "codemirror_mode": {
    "name": "ipython",
    "version": 3
   },
   "file_extension": ".py",
   "mimetype": "text/x-python",
   "name": "python",
   "nbconvert_exporter": "python",
   "pygments_lexer": "ipython3",
   "version": "3.7.3"
  }
 },
 "nbformat": 4,
 "nbformat_minor": 2
}
