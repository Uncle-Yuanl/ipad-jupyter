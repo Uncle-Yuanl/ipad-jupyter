{
 "cells": [
  {
   "cell_type": "code",
   "execution_count": null,
   "metadata": {},
   "outputs": [],
   "source": [
    "import urllib\n",
    "'''\n",
    "http请求\n",
    "使用场景：进行客户端与服务端之间的消息传递\n",
    "GET:通过url网址传递信息，可以直接在url网址上添加要传递的信息\n",
    "POST:可以向服务器提交数据，是一种比较流行、安全的数据传递方式\n",
    "PUT:请求服务器存储一个资源，通常指定存储的位置\n",
    "DELETE:请求服务器删除一个资源\n",
    "HEAD:请求获取对应的http报头信息\n",
    "OPTIONS:可以获取当前url所支持的请求类型\n",
    "\n",
    "'''"
   ]
  },
  {
   "cell_type": "markdown",
   "metadata": {},
   "source": [
    "get请求"
   ]
  },
  {
   "cell_type": "code",
   "execution_count": null,
   "metadata": {},
   "outputs": [],
   "source": [
    "'''\n",
    "特点：把数据拼接到请求路径的后面传递给服务器\n",
    "优点：速度快\n",
    "缺点：数据量小，不安全\n",
    "'''\n",
    "import urllib\n",
    "\n",
    "url = \"http://www.baidu.com\"\n",
    "response = urllib.request.urlopen(url)\n",
    "data = response.read().decode(\"utf-8\")  #返回的是json类型的字符串\n",
    "print(data)"
   ]
  },
  {
   "cell_type": "code",
   "execution_count": 13,
   "metadata": {},
   "outputs": [
    {
     "name": "stdout",
     "output_type": "stream",
     "text": [
      "{'name': 'sunck', 'age': 18, 'hobby': ['money', 'power', 'emglish'], 'params': {'a': 1, 'b': 2}}\n",
      "<class 'dict'>\n",
      "['money', 'power', 'emglish']\n",
      "{'a': 1, 'b': 2}\n",
      "1\n"
     ]
    }
   ],
   "source": [
    "'''\n",
    "json是一种保存数据的格式\n",
    "组成：\n",
    "{}  代表对象（字典）\n",
    "[]  代表列表\n",
    "：  代表键值对\n",
    "，  代表分隔两个部分\n",
    "'''\n",
    "import json\n",
    "jsonStr = '{\"name\": \"sunck\", \"age\": 18, \"hobby\": [\"money\", \"power\", \"emglish\"], \"params\": {\"a\": 1, \"b\": 2}}'\n",
    "#将json转为python数据类型对象\n",
    "jsonData = json.loads(jsonStr)\n",
    "print(jsonData)\n",
    "print(type(jsonData))\n",
    "print(jsonData[\"hobby\"])\n",
    "print(jsonData[\"params\"])\n",
    "print(jsonData[\"params\"][\"a\"])"
   ]
  },
  {
   "cell_type": "code",
   "execution_count": 16,
   "metadata": {},
   "outputs": [
    {
     "name": "stdout",
     "output_type": "stream",
     "text": [
      "{\"name\": \"sunck\", \"age\": 18, \"hobby\": [\"money\", \"power\", \"emglish\"], \"params\": {\"a\": 1, \"b\": 2}}\n",
      "<class 'str'>\n"
     ]
    }
   ],
   "source": [
    "#将python数据类型对象转为json\n",
    "pythonStr = {\"name\": \"sunck\", \"age\": 18, \"hobby\": [\"money\", \"power\", \"emglish\"], \"params\": {\"a\": 1, \"b\": 2}}\n",
    "jsonStr = json.dumps(pythonStr)\n",
    "print(jsonStr)\n",
    "print(type(jsonStr))"
   ]
  },
  {
   "cell_type": "code",
   "execution_count": null,
   "metadata": {},
   "outputs": [],
   "source": [
    "#读取本地json文件\n",
    "path = \"\"\n",
    "with open(path, \"rb\") as f:\n",
    "    data = json.load(f)\n",
    "#此处data的类型为dict    "
   ]
  },
  {
   "cell_type": "code",
   "execution_count": 18,
   "metadata": {},
   "outputs": [],
   "source": [
    "#写本地json\n",
    "path2 = r\"C:\\Users\\0.0\\Desktop\\Python Test\\jsonTest.json\"\n",
    "pythonStr = {\"name\": \"sunck\", \"age\": 18, \"hobby\": [\"money\", \"power\", \"emglish\"], \"params\": {\"a\": 1, \"b\": 2}}  #字典\n",
    "with open(path2, \"w\") as f:\n",
    "    json.dump(pythonStr, f)"
   ]
  },
  {
   "cell_type": "markdown",
   "metadata": {},
   "source": [
    "post请求"
   ]
  },
  {
   "cell_type": "code",
   "execution_count": 19,
   "metadata": {},
   "outputs": [],
   "source": [
    "'''\n",
    "特点：把数据进行打包，单独传输\n",
    "优点：数量大，安全\n",
    "缺点：速度慢\n",
    "\n",
    "'''\n",
    "import urllib.request\n",
    "import urllib.parse "
   ]
  },
  {
   "cell_type": "code",
   "execution_count": null,
   "metadata": {},
   "outputs": [],
   "source": [
    "url = r\"\"\n",
    "#将数据合成一个字典\n",
    "#字典的键去网址里找，一般为input标签的name值\n",
    "data = {\n",
    "    \"username\": \"sunck\"\n",
    "    \"passwd\": \"666\"   \n",
    "}\n",
    "#对要传输的数据打包,记住要编码\n",
    "postData = urllib.parse.urlencode(data).encode(\"utf-8\")\n",
    "\n",
    "#创建请求体\n",
    "req = urllib.request.Request(url,data = postdata, headers = )\n",
    "\n",
    "#发起请求\n",
    "response = urllib.request.urlopen(req)\n",
    "print(response.read().decode(\"utf-8\"))"
   ]
  }
 ],
 "metadata": {
  "kernelspec": {
   "display_name": "Python 3",
   "language": "python",
   "name": "python3"
  },
  "language_info": {
   "codemirror_mode": {
    "name": "ipython",
    "version": 3
   },
   "file_extension": ".py",
   "mimetype": "text/x-python",
   "name": "python",
   "nbconvert_exporter": "python",
   "pygments_lexer": "ipython3",
   "version": "3.7.3"
  }
 },
 "nbformat": 4,
 "nbformat_minor": 2
}
