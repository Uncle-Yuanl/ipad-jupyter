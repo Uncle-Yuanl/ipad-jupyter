{
 "cells": [
  {
   "cell_type": "code",
   "execution_count": 1,
   "metadata": {},
   "outputs": [
    {
     "data": {
      "text/plain": [
       "11"
      ]
     },
     "execution_count": 1,
     "metadata": {},
     "output_type": "execute_result"
    }
   ],
   "source": [
    "77 // 7\n"
   ]
  },
  {
   "cell_type": "code",
   "execution_count": 3,
   "metadata": {},
   "outputs": [
    {
     "name": "stdout",
     "output_type": "stream",
     "text": [
      "0\n",
      "1\n",
      "2\n",
      "3\n",
      "***\n",
      "4\n",
      "5\n",
      "6\n",
      "7\n",
      "8\n",
      "9\n"
     ]
    }
   ],
   "source": [
    "num = 0 \n",
    "while num < 10:\n",
    "    print(num)\n",
    "    if num == 3:\n",
    "        print(\"***\")\n",
    "        num += 1   #没有这行就一直33333\n",
    "        continue\n",
    "    num += 1\n",
    "    "
   ]
  },
  {
   "cell_type": "code",
   "execution_count": 4,
   "metadata": {},
   "outputs": [
    {
     "name": "stdout",
     "output_type": "stream",
     "text": [
      "0\n",
      "1\n",
      "2\n",
      "3\n",
      "***\n"
     ]
    }
   ],
   "source": [
    "num = 0 \n",
    "while num < 10:\n",
    "    print(num)\n",
    "    if num == 3:\n",
    "        print(\"***\")\n",
    "        num += 1\n",
    "        break\n",
    "    num += 1\n",
    "    "
   ]
  },
  {
   "cell_type": "code",
   "execution_count": 2,
   "metadata": {},
   "outputs": [
    {
     "name": "stdout",
     "output_type": "stream",
     "text": [
      "['sunck', 'is', 'a', 'good', 'man', 'sunck', 'is', 'a', 'good', 'man', 'sunck', 'is', 'a', 'good', 'man', 'sunck', 'is', 'a', 'good', 'man', '']\n"
     ]
    }
   ],
   "source": [
    "str = \"sunck is a good man sunck is a good man sunck is a good man sunck is a good man \"\n",
    "l = str.split(\" \")\n",
    "print(l)\n"
   ]
  },
  {
   "cell_type": "code",
   "execution_count": 3,
   "metadata": {},
   "outputs": [
    {
     "name": "stdout",
     "output_type": "stream",
     "text": [
      "sunck\n",
      "sunck 4\n"
     ]
    }
   ],
   "source": [
    "w = input()\n",
    "d = {}\n",
    "for v in l :\n",
    "    c = d.get(v)\n",
    "    if c == None :\n",
    "        d[v] = 1\n",
    "    else:\n",
    "        d[v] += 1\n",
    "print(w, d[w])"
   ]
  },
  {
   "cell_type": "code",
   "execution_count": 7,
   "metadata": {},
   "outputs": [
    {
     "name": "stdout",
     "output_type": "stream",
     "text": [
      "请输入一个时间19.2\n",
      "[19.1, 20.6, 26.6, 36.25, 43.69, 51.24, 58.75, 64.3, 65.5, 73.13, 80.92, 88.44, 95.05, 96.25, 102.47, 111.18, 117.43, 127.85, 159.9, 167.44, 174.82999999999998, 182.32, 188.15, 189.35, 196.9, 204.42000000000002, 211.85, 218.67000000000002, 219.87, 226.38, 234.82999999999998, 241.4, 249.0, 249.96, 256.37, 264.82, 271.38, 279.55, 280.75, 289.0]\n",
      "19.1\n",
      "20.6\n",
      "作词：刘兵 作曲：李建\n"
     ]
    }
   ],
   "source": [
    "music= \"\"\"\n",
    "[00:19.10]作词：刘兵 作曲：李建\n",
    "[00:20.60]演唱：王菲\n",
    "[00:26.60]\n",
    "[04:40.75][02:39.90][00:36.25]只是因为在人群中多看了你\n",
    "[04:49.00]\n",
    "[02:47.44][00:43.69]再也没能忘掉你容颜\n",
    "[02:54.83][00:51.24]梦想着偶然能有一天再相见\n",
    "[03:02.32][00:58.75]从此我开始孤单思念\n",
    "[03:08.15][01:04.30]\n",
    "[03:09.35][01:05.50]想你时你在天边\n",
    "[03:16.90][01:13.13]想你时你在眼前\n",
    "[03:24.42][01:20.92]想你时你在脑海\n",
    "[03:31.85][01:28.44]想你时你在心田\n",
    "[03:38.67][01:35.05]\n",
    "[04:09.96][03:39.87][01:36.25]宁愿相信我们前世有约\n",
    "[04:16.37][03:46.38][01:42.47]今生的爱情故事不会再改变\n",
    "[04:24.82][03:54.83][01:51.18]愿用这一生等你发现\n",
    "[04:31.38][04:01.40][01:57.43]我一直在你身旁从未走远\n",
    "[04:39.55][04:09.00][02:07.85]\n",
    "\"\"\"\n",
    "\n",
    "IrcDict = {}\n",
    "musicLrcList = music.splitlines()\n",
    "for IreLine in musicLrcList:\n",
    "    IrcLineList = IreLine.split(\"]\")\n",
    "    \n",
    "    for index in range(len(IrcLineList) - 1):\n",
    "        timeStr = IrcLineList[index][1:]\n",
    "        timeList = timeStr.split(\":\")\n",
    "        time = float(timeList[0]) * 60 + float(timeList[1])\n",
    "        IrcDict[time] = IrcLineList[-1]\n",
    "        \n",
    "getTime = float(input(\"请输入一个时间\"))\n",
    "allTimeList = []\n",
    "for key in IrcDict:\n",
    "    allTimeList.append(key)\n",
    "allTimeList.sort()\n",
    "print(allTimeList)\n",
    "for n in range(len(allTimeList) - 1):\n",
    "    tempTime = allTimeList[n]\n",
    "    print(tempTime)\n",
    "    if getTime < tempTime:\n",
    "        break\n",
    "if n == 0:\n",
    "    print(\"时间太小\")\n",
    "else:\n",
    "    print(IrcDict[allTimeList[n - 1]])"
   ]
  },
  {
   "cell_type": "code",
   "execution_count": 9,
   "metadata": {},
   "outputs": [
    {
     "name": "stdout",
     "output_type": "stream",
     "text": [
      "None\n"
     ]
    }
   ],
   "source": [
    "s1 = set([1,2,3,4,5])\n",
    "s2 = s1.update([5,7,8])\n",
    "print(s2)\n"
   ]
  },
  {
   "cell_type": "code",
   "execution_count": 11,
   "metadata": {},
   "outputs": [
    {
     "name": "stderr",
     "output_type": "stream",
     "text": [
      "D:\\Anacoda\\anacoda\\lib\\site-packages\\ipykernel_launcher.py:2: DeprecationWarning: Using or importing the ABCs from 'collections' instead of from 'collections.abc' is deprecated, and in 3.8 it will stop working\n",
      "  \n"
     ]
    },
    {
     "name": "stdout",
     "output_type": "stream",
     "text": [
      "a\n",
      "b\n",
      "c\n",
      "d\n",
      "end\n",
      "a\n",
      "b\n",
      "c\n",
      "d\n",
      "\n"
     ]
    }
   ],
   "source": [
    "from collections import Iterable\n",
    "from collections import Iterator\n",
    "endstr = \"end\"\n",
    "str = \"\"\n",
    "for line in iter(input, endstr):\n",
    "    str += line + \"\\n\"\n",
    "print(str)"
   ]
  },
  {
   "cell_type": "code",
   "execution_count": 14,
   "metadata": {},
   "outputs": [
    {
     "name": "stdout",
     "output_type": "stream",
     "text": [
      "5\n"
     ]
    }
   ],
   "source": [
    "def sum(num1, num2):\n",
    "    print(num1 + num2)\n",
    "    \n",
    "sum(2, 3)\n"
   ]
  },
  {
   "cell_type": "code",
   "execution_count": 17,
   "metadata": {},
   "outputs": [],
   "source": [
    "\n",
    "def sum1(num1, num2):\n",
    "    sum = num1 + num2\n",
    "    \n",
    "sum1(2, 3)"
   ]
  },
  {
   "cell_type": "code",
   "execution_count": 18,
   "metadata": {},
   "outputs": [
    {
     "data": {
      "text/plain": [
       "5"
      ]
     },
     "execution_count": 18,
     "metadata": {},
     "output_type": "execute_result"
    }
   ],
   "source": [
    "def sum1(num1, num2):\n",
    "    sum = num1 + num2\n",
    "    return sum\n",
    "    print(\"****\")\n",
    "sum1(2, 3)"
   ]
  },
  {
   "cell_type": "code",
   "execution_count": 23,
   "metadata": {},
   "outputs": [
    {
     "name": "stdout",
     "output_type": "stream",
     "text": [
      "sunck is -10 years old\n",
      "sunck is -10 years old\n",
      "0岁\n",
      "sunck is -10 years old\n"
     ]
    }
   ],
   "source": [
    "def say(age):\n",
    "    print(\"sunck is %d years old\" % (age))\n",
    "def outer(func):\n",
    "    def inner(age):\n",
    "        if age < 0:\n",
    "            print(\"0岁\") #没有改变age的值 下一步func(age)还是原来的输出\n",
    "        func(age)\n",
    "    return inner\n",
    "\n",
    "say(-10)\n",
    "outer(say(-10))\n",
    "say = outer(say)\n",
    "say(-10)\n"
   ]
  },
  {
   "cell_type": "code",
   "execution_count": 28,
   "metadata": {},
   "outputs": [
    {
     "name": "stdout",
     "output_type": "stream",
     "text": [
      "    目录：presentation\n",
      "      目录：英语小组第一次课件\n",
      "        文件：二班第三组.pptx\n",
      "        文件：二班第二组.pptx\n",
      "        文件：二班第四组.pptx\n",
      "        文件：英语二班第一次活动详情.xlsx\n",
      "        文件：英语二班第一组(1).ppt\n",
      "      目录：英语小组第二次课件\n",
      "        文件：英语二班一组.ppt\n",
      "        文件：英语二班三组.pptx\n",
      "        文件：英语二班二组.pptx\n",
      "        文件：英语二班四组.pptx\n",
      "        文件：英语二班王丹组终稿.pptx\n",
      "        文件：英语二班王月组终稿.pptx\n",
      "        文件：英语二班第二次展示详情.xlsx\n",
      "        文件：英语二班第二次活动详情.xlsx\n",
      "        文件：英语二班赵路组终稿.ppt\n",
      "        文件：英语二班邵志慧组终稿.pptx\n",
      "    文件：unit01.mp3\n",
      "    文件：unit02.mp3\n",
      "    文件：unit03.mp3\n",
      "    文件：unit04.mp3\n",
      "    文件：unit05.mp3\n",
      "    文件：unit06.mp3\n",
      "    文件：unit07.mp3\n",
      "    文件：unit08.mp3\n",
      "    文件：unit09.mp3\n",
      "    文件：unit10.mp3\n",
      "    文件：unit11.mp3\n",
      "    文件：unit12.mp3\n",
      "    文件：英语口语考试.docx\n",
      "    文件：英语资料.docx\n",
      "None\n"
     ]
    }
   ],
   "source": [
    "import os\n",
    "path = r\"F:\\研究生听力\"\n",
    "def getAllDir(path, sp = \"  \"):\n",
    "    fileList = os.listdir(path)\n",
    "    sp += \"  \"\n",
    "    for fileName in fileList:\n",
    "        fileAbsPath = os.path.join(path, fileName)\n",
    "        if os.path.isdir(fileAbsPath):\n",
    "            print(sp + \"目录：\" + fileName)\n",
    "            #sp += \"  \"\n",
    "            getAllDir(fileAbsPath, sp)\n",
    "        else:\n",
    "            print(sp + \"文件：\" + fileName)\n",
    "print(getAllDir(path))"
   ]
  },
  {
   "cell_type": "code",
   "execution_count": 31,
   "metadata": {},
   "outputs": [
    {
     "name": "stdout",
     "output_type": "stream",
     "text": [
      "目录：presentation\n",
      "文件：unit01.mp3\n",
      "文件：unit02.mp3\n",
      "文件：unit03.mp3\n",
      "文件：unit04.mp3\n",
      "文件：unit05.mp3\n",
      "文件：unit06.mp3\n",
      "文件：unit07.mp3\n",
      "文件：unit08.mp3\n",
      "文件：unit09.mp3\n",
      "文件：unit10.mp3\n",
      "文件：unit11.mp3\n",
      "文件：unit12.mp3\n",
      "文件：英语口语考试.docx\n",
      "文件：英语资料.docx\n",
      "目录：英语小组第一次课件\n",
      "目录：英语小组第二次课件\n",
      "文件：英语二班一组.ppt\n",
      "文件：英语二班三组.pptx\n",
      "文件：英语二班二组.pptx\n",
      "文件：英语二班四组.pptx\n",
      "文件：英语二班王丹组终稿.pptx\n",
      "文件：英语二班王月组终稿.pptx\n",
      "文件：英语二班第二次展示详情.xlsx\n",
      "文件：英语二班第二次活动详情.xlsx\n",
      "文件：英语二班赵路组终稿.ppt\n",
      "文件：英语二班邵志慧组终稿.pptx\n",
      "文件：二班第三组.pptx\n",
      "文件：二班第二组.pptx\n",
      "文件：二班第四组.pptx\n",
      "文件：英语二班第一次活动详情.xlsx\n",
      "文件：英语二班第一组(1).ppt\n",
      "None\n"
     ]
    }
   ],
   "source": [
    "path = r\"F:\\研究生听力\"\n",
    "def getAllDirDE(path):\n",
    "    stack = []\n",
    "    stack.append(path)\n",
    "    while len(stack) != 0:\n",
    "        dirPath = stack.pop()\n",
    "        fileList = os.listdir(dirPath)\n",
    "        for fileName in fileList:\n",
    "            fileAbsPath = os.path.join(dirPath, fileName)\n",
    "            if os.path.isdir(fileAbsPath):\n",
    "                stack.append(fileAbsPath)\n",
    "                print(\"目录：\" + fileName)\n",
    "            else:\n",
    "                print(\"文件：\" + fileName)\n",
    "print(getAllDirDE(path))               \n"
   ]
  },
  {
   "cell_type": "code",
   "execution_count": 32,
   "metadata": {},
   "outputs": [
    {
     "name": "stdout",
     "output_type": "stream",
     "text": [
      "5\n"
     ]
    }
   ],
   "source": [
    "a = [1,2,3,4,5]\n",
    "print(a.pop())"
   ]
  },
  {
   "cell_type": "code",
   "execution_count": 43,
   "metadata": {},
   "outputs": [
    {
     "name": "stdout",
     "output_type": "stream",
     "text": [
      "剩余4颗子弹\n",
      "剩余3颗子弹\n",
      "剩余2颗子弹\n",
      "剩余1颗子弹\n",
      "剩余0颗子弹\n",
      "out\n",
      "剩余2颗子弹\n"
     ]
    }
   ],
   "source": [
    "class BulletBox(object):\n",
    "    def __init__(self, num):\n",
    "        self.bulletNum = num\n",
    "        \n",
    "class Gun(object):\n",
    "    def __init__(self, bulletBox):\n",
    "        self.bulletBox = bulletBox\n",
    "    def fire(self):\n",
    "        if self.bulletBox.bulletNum == 0:\n",
    "            print(\"out\")\n",
    "        else:\n",
    "            self.bulletBox.bulletNum -= 1\n",
    "            print(\"剩余%d颗子弹\" % (self.bulletBox.bulletNum))\n",
    "            \n",
    "class Person(object):\n",
    "    def __init__(self, gun):\n",
    "        self.gun = gun\n",
    "    def shoot(self):\n",
    "        self.gun.fire()\n",
    "    def reload(self, num):\n",
    "        self.gun.bulletBox.bulletNum += num\n",
    "        \n",
    "bulletBox = BulletBox(5)\n",
    "gun = Gun(bulletBox)\n",
    "per = Person(gun)\n",
    "\n",
    "per.shoot()\n",
    "per.shoot()\n",
    "per.shoot()\n",
    "per.shoot()\n",
    "per.shoot()\n",
    "per.shoot()\n",
    "per.reload(3)\n",
    "per.shoot()"
   ]
  },
  {
   "cell_type": "code",
   "execution_count": 37,
   "metadata": {},
   "outputs": [],
   "source": [
    "class Person(object):\n",
    "    def __init__(self, name, age):\n",
    "        self.name = name\n",
    "        self.age = age\n",
    "per = Person(\"lilei\", 18)"
   ]
  },
  {
   "cell_type": "code",
   "execution_count": null,
   "metadata": {},
   "outputs": [],
   "source": []
  }
 ],
 "metadata": {
  "kernelspec": {
   "display_name": "Python 3",
   "language": "python",
   "name": "python3"
  },
  "language_info": {
   "codemirror_mode": {
    "name": "ipython",
    "version": 3
   },
   "file_extension": ".py",
   "mimetype": "text/x-python",
   "name": "python",
   "nbconvert_exporter": "python",
   "pygments_lexer": "ipython3",
   "version": "3.7.3"
  }
 },
 "nbformat": 4,
 "nbformat_minor": 2
}
