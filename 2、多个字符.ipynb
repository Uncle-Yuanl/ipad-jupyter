{
 "cells": [
  {
   "cell_type": "code",
   "execution_count": 1,
   "metadata": {},
   "outputs": [
    {
     "name": "stdout",
     "output_type": "stream",
     "text": [
      "['sunck', 'sunck']\n",
      "['', '', '', '', '', '', 'o', 'o', '', '', '', '', '', '', '', '', 'o', 'o', '', '', '', '', '', '', '', '', '', '', '', '', '', '', '', '', '', '', '', '', '', '', '', '', '', '', '']\n",
      "['a', '', 'a', 'a', '', 'a', 'a', 'a', '', '', '', '', 'a', 'a', '']\n",
      "['a', '', 'aa', '', 'aaa', '', 'aaaa', '']\n",
      "['a', 'aa', 'aaa', 'aaaa', 'aaaa']\n",
      "['aaa', 'aaa', 'aaa', 'aaa']\n",
      "['aaa', 'aaaa', 'aaaaaa']\n",
      "['aaa', 'aaaa', 'aaaaaa', 'aaa']\n",
      "[('sunck', 's'), ('Sunck', 'S')]\n"
     ]
    }
   ],
   "source": [
    "import re\n",
    "#匹配多个字符\n",
    "'''\n",
    "(xyz)      匹配小括号内的xyz 作为一个整体\n",
    "x?         匹配0个或者1个x   要么没有要么单个拿出  不是x的都算空格\n",
    "x*         匹配0个或者任意多个x  没有或整体 贪婪匹配  不是x的都算空格\n",
    "x+         匹配至少一个x   其他的空格都不要\n",
    "x{n}       匹配确定的n个x（n为非负整数） \n",
    "x{n,}      匹配至少n个x（n为非负整数）\n",
    "x{n,m}     匹配至少n个最多m个为x为一个整体的  注意n<m   n=m即为x{n}  一般用于n-m位长度\n",
    "x|y        匹配x或y\n",
    "'''\n",
    "print(re.findall(\"(sunck)\", \"sunckgood is a good man, sunck is a nice man\"))\n",
    "print(re.findall(\"o?\", \"sunckgood is a good man, sunck is a nice man\"))\n",
    "print(re.findall(\"a?\", \"a aa aaa bbbaa\"))\n",
    "print(re.findall(\"a*\", \"a aa aaa aaaa\"))     \n",
    "print(re.findall(\"a+\", \"a aa aaa aaaa  baaaa\"))  \n",
    "print(re.findall(\"a{3}\", \"a aa aaa baaaa  aaaaaa\"))  #少了没有  多了只输出x{n}\n",
    "print(re.findall(\"a{3,}\", \"a aa aaa baaaa  aaaaaa\"))\n",
    "print(re.findall(\"a{3,6}\", \"a aa aaa baaaa  aaaaaaaaa\"))\n",
    "print(re.findall(\"((s|S)unck)\",\"sunck--Sunck\"))"
   ]
  },
  {
   "cell_type": "code",
   "execution_count": 9,
   "metadata": {},
   "outputs": [
    {
     "name": "stdout",
     "output_type": "stream",
     "text": [
      "['sunck is a good man!sunck is a nice man!sunck is a handsome man']\n",
      "[]\n",
      "[' is a good man!sunck is a nice man!sunck is a handsome ']\n",
      "[('sunck is a good man!sunck is a nice man!sunck is a handsome man', ' is a good man!sunck is a nice man!sunck is a handsome ')]\n",
      "['sunck is a good man', 'sunck is a nice man', 'sunck is a handsome man']\n",
      "[' is a good ', ' is a nice ', ' is a handsome ']\n",
      "['/*  part1   */    /*   part2   */']\n",
      "['/*  part1   */', '/*   part2   */']\n"
     ]
    }
   ],
   "source": [
    "#需求 提取sunck********man  *为任意\n",
    "#   特殊\n",
    "#*？   +？   x？ 最小匹配 \n",
    "# (?:x)  类似（xyz）但不表示一个组\n",
    "str = \"sunck is a good man!sunck is a nice man!sunck is a handsome man\"\n",
    "print(re.findall(r\"^sunck.*man$\", str))\n",
    "print(re.findall(r\"^sunck.*？man$\", str))\n",
    "print(re.findall(r\"^sunck(.*)man$\", str))\n",
    "print(re.findall(r\"(^sunck(.*)man$)\", str))\n",
    "print(re.findall(r\"sunck.*?man\", str))\n",
    "print(re.findall(r\"sunck(.*?)man\", str))\n",
    "\n",
    "\n",
    "str2 = \"/*  part1   */    /*   part2   */\"\n",
    "print(re.findall(r\"//*.*/*/\", str2))         #正则转义和普通的有区别  这里转义的是*  //*第二个为转义符  /*/第一个是\n",
    "print(re.findall(r\"//*.*?/*/\", str2))"
   ]
  },
  {
   "cell_type": "code",
   "execution_count": 13,
   "metadata": {},
   "outputs": [
    {
     "name": "stdout",
     "output_type": "stream",
     "text": [
      "<re.Match object; span=(0, 11), match='13912345678'>\n",
      "None\n",
      "None\n",
      "None\n"
     ]
    }
   ],
   "source": [
    "#判断电话号码\n",
    "\n",
    "def checkPhone(str):\n",
    "    pat = r\"^1[3578]\\d{9}$\"   #\\d相当于[0-9]  还是只一个\n",
    "    res = re.match(pat, str)\n",
    "    print(res)\n",
    "     \n",
    "checkPhone(\"13912345678\")\n",
    "checkPhone(\"139123456781\")\n",
    "checkPhone(\"1391234a678\")\n",
    "checkPhone(\"23912345678\")"
   ]
  },
  {
   "cell_type": "code",
   "execution_count": 14,
   "metadata": {},
   "outputs": [
    {
     "name": "stdout",
     "output_type": "stream",
     "text": [
      "<re.Match object; span=(0, 11), match='13912345678'>\n",
      "<re.Match object; span=(0, 11), match='13912345678'>\n",
      "None\n",
      "None\n"
     ]
    }
   ],
   "source": [
    "def checkPhone(str):\n",
    "    pat = r\"^1[3578]\\d{9}\"\n",
    "    res = re.match(pat, str)\n",
    "    print(res)\n",
    "      \n",
    "checkPhone(\"13912345678\")\n",
    "checkPhone(\"139123456781\")\n",
    "checkPhone(\"1391234a678\")\n",
    "checkPhone(\"23912345678\")"
   ]
  },
  {
   "cell_type": "code",
   "execution_count": 17,
   "metadata": {},
   "outputs": [
    {
     "name": "stdout",
     "output_type": "stream",
     "text": [
      "<re.Match object; span=(0, 11), match='13912345678'>\n",
      "None\n",
      "None\n",
      "None\n"
     ]
    }
   ],
   "source": [
    "def checkPhone(str):\n",
    "    print(mn.groups())\n",
    "    res = re.match(pat, str)\n",
    "    print(res)\n",
    "      \n",
    "checkPhone(\"13912345678\")\n",
    "checkPhone(\"139123456781\")\n",
    "checkPhone(\"1391234a678\")\n",
    "checkPhone(\"23912345678\")"
   ]
  },
  {
   "cell_type": "code",
   "execution_count": 22,
   "metadata": {},
   "outputs": [
    {
     "name": "stdout",
     "output_type": "stream",
     "text": [
      "[]\n"
     ]
    }
   ],
   "source": [
    "def findPhone(str):\n",
    "    pat = r\"^1([3578]\\d|(47))\\d{8}$\"\n",
    "    res = re.findall(pat, str)\n",
    "    print(res)\n",
    "      \n",
    "findPhone(\"asdasdas13912345678asdasdasd13911111111asdasdasd\")"
   ]
  },
  {
   "cell_type": "code",
   "execution_count": 23,
   "metadata": {},
   "outputs": [
    {
     "name": "stdout",
     "output_type": "stream",
     "text": [
      "[]\n"
     ]
    }
   ],
   "source": [
    "def findPhone(str):\n",
    "    pat = r\"(^1([3578]\\d|(47))\\d{8}$)\"\n",
    "    res = re.findall(pat, str)\n",
    "    print(res)\n",
    "      \n",
    "findPhone(\"asdasdas13912345678asdasdasd13911111111asdasdasd\")"
   ]
  },
  {
   "cell_type": "code",
   "execution_count": 21,
   "metadata": {},
   "outputs": [
    {
     "name": "stdout",
     "output_type": "stream",
     "text": [
      "[('13912345678', '39', ''), ('13911111111', '39', '')]\n"
     ]
    }
   ],
   "source": [
    "def findPhone(str):\n",
    "    pat = r\"(1([3578]\\d|(47))\\d{8})\"\n",
    "    res = re.findall(pat, str)\n",
    "    print(res)\n",
    "      \n",
    "findPhone(\"asdasdas13912345678asdasdasd13911111111asdasdasd\")"
   ]
  }
 ],
 "metadata": {
  "kernelspec": {
   "display_name": "Python 3",
   "language": "python",
   "name": "python3"
  },
  "language_info": {
   "codemirror_mode": {
    "name": "ipython",
    "version": 3
   },
   "file_extension": ".py",
   "mimetype": "text/x-python",
   "name": "python",
   "nbconvert_exporter": "python",
   "pygments_lexer": "ipython3",
   "version": "3.7.3"
  }
 },
 "nbformat": 4,
 "nbformat_minor": 2
}
